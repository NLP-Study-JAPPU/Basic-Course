{
  "nbformat": 4,
  "nbformat_minor": 0,
  "metadata": {
    "colab": {
      "provenance": [],
      "gpuType": "T4"
    },
    "kernelspec": {
      "name": "python3",
      "display_name": "Python 3"
    },
    "language_info": {
      "name": "python"
    },
    "accelerator": "GPU"
  },
  "cells": [
    {
      "cell_type": "markdown",
      "source": [
        "# 0. Setting"
      ],
      "metadata": {
        "id": "335rM4bdE0lF"
      }
    },
    {
      "cell_type": "markdown",
      "source": [
        "- 라이브러리 설정"
      ],
      "metadata": {
        "id": "pvTsnne60yEI"
      }
    },
    {
      "cell_type": "code",
      "source": [
        "import torch\n",
        "from torch.utils.data import TensorDataset\n",
        "from torch.utils.data import DataLoader\n",
        "import torch.optim as optim\n",
        "from torch.nn import functional as F\n",
        "from torch import nn"
      ],
      "metadata": {
        "id": "aBb02rmmBo4a"
      },
      "execution_count": 53,
      "outputs": []
    },
    {
      "cell_type": "markdown",
      "source": [
        "# 1. 데이터 준비"
      ],
      "metadata": {
        "id": "1RRMJQ0Z5CsR"
      }
    },
    {
      "cell_type": "code",
      "source": [
        "data = [\n",
        "    'drink cold milk',\n",
        "    'drink cold water',\n",
        "    'drink cold cola',\n",
        "    'drink sweet juice',\n",
        "    'drink sweet cola',\n",
        "    'eat delicious bacon',\n",
        "    'eat sweet mango',\n",
        "    'eat delicious cherry',\n",
        "    'eat sweet apple',\n",
        "    'juice with sugar',\n",
        "    'cola with sugar',\n",
        "    'mango is fruit',\n",
        "    'apple is fruit',\n",
        "    'cherry is fruit',\n",
        "    'Berlin is Germany',\n",
        "    'Boston is USA',\n",
        "    'Mercedes from Germany',\n",
        "    'Mercedes is car',\n",
        "    'Ford from USA',\n",
        "    'Ford is car'\n",
        "]"
      ],
      "metadata": {
        "id": "4ydlENzFAeUm"
      },
      "execution_count": 54,
      "outputs": []
    },
    {
      "cell_type": "markdown",
      "source": [
        "# 2. 전처리"
      ],
      "metadata": {
        "id": "DLCt_xNZ4VzK"
      }
    },
    {
      "cell_type": "markdown",
      "source": [
        "## 2-1. 단어 리스트 생성"
      ],
      "metadata": {
        "id": "dFixYYfB9mtH"
      }
    },
    {
      "cell_type": "code",
      "source": [
        "word_sequence = [sequence.split() for sequence in data]\n",
        "word_list = list(set(\" \".join(data).split()))\n",
        "word2index = {key : idx for idx, key in enumerate(word_list) if len(key) > 1}\n",
        "vocab_size = len(word_list)"
      ],
      "metadata": {
        "id": "MKOmWp58QgR-"
      },
      "execution_count": 55,
      "outputs": []
    },
    {
      "cell_type": "markdown",
      "source": [
        "# 2-2. Dataset 생성"
      ],
      "metadata": {
        "id": "vlpB00kI-SYj"
      }
    },
    {
      "cell_type": "markdown",
      "source": [
        "#### Window Size 정의"
      ],
      "metadata": {
        "id": "abZXzj6G-a85"
      }
    },
    {
      "cell_type": "code",
      "source": [
        "window_size = 2\n",
        "batch_size = 10"
      ],
      "metadata": {
        "id": "e1qIVEnJQxHL"
      },
      "execution_count": 74,
      "outputs": []
    },
    {
      "cell_type": "markdown",
      "source": [
        "### 2-2-1. Skip-gram Dataset 생성"
      ],
      "metadata": {
        "id": "FNjlYCM8l7g2"
      }
    },
    {
      "cell_type": "markdown",
      "source": [
        "### 페어 생성"
      ],
      "metadata": {
        "id": "eFab12CtQ7iR"
      }
    },
    {
      "cell_type": "markdown",
      "source": [
        "- SkipGram_pair 함수 정의"
      ],
      "metadata": {
        "id": "iI-fACS5mQZ1"
      }
    },
    {
      "cell_type": "code",
      "source": [
        "def SkipGram_pair(window_size, word_sequence) :\n",
        "    pair = []\n",
        "    for sequence in word_sequence :\n",
        "        for i in range(len(sequence)) :\n",
        "            context = word2index[sequence[i]]\n",
        "            target = []\n",
        "            for j in range(window_size, -1, -1) :\n",
        "                if i - j >= 0 : target.append(word2index[sequence[i-j]]) # 과거 문자 삽입\n",
        "            for j in range(1, window_size + 1) :\n",
        "                if i + j < len(sequence) : target.append(word2index[sequence[i+j]] ) # 미래 문자 삽입\n",
        "            # 페어 생성\n",
        "            for t in target : pair.append([context, t])\n",
        "\n",
        "    x_train, y_train = list(zip(*pair))\n",
        "    return torch.LongTensor(list(x_train)), torch.LongTensor(list(y_train))"
      ],
      "metadata": {
        "id": "i1GaCb38lo-c"
      },
      "execution_count": 57,
      "outputs": []
    },
    {
      "cell_type": "code",
      "source": [
        "x_train, y_train = SkipGram_pair(window_size, word_sequence)"
      ],
      "metadata": {
        "id": "u0pMtppymONc"
      },
      "execution_count": 58,
      "outputs": []
    },
    {
      "cell_type": "markdown",
      "source": [
        "- DataLoader 생성"
      ],
      "metadata": {
        "id": "bW_Jn9RO0kTz"
      }
    },
    {
      "cell_type": "code",
      "source": [
        "train_dataset = TensorDataset(x_train, y_train)\n",
        "train_dataloader = DataLoader(train_dataset, batch_size = batch_size, shuffle = True)"
      ],
      "metadata": {
        "id": "kkB9XA4izyWC"
      },
      "execution_count": 59,
      "outputs": []
    },
    {
      "cell_type": "markdown",
      "source": [
        "# 3. Modeling"
      ],
      "metadata": {
        "id": "C2SFUeO-mxiz"
      }
    },
    {
      "cell_type": "markdown",
      "source": [
        "## 3-1. Skip-gram Modeling"
      ],
      "metadata": {
        "id": "jFdR4u3B3UCa"
      }
    },
    {
      "cell_type": "code",
      "source": [
        "class SkipGram(nn.Module) :\n",
        "\n",
        "    def __init__(self, vocab_size, dimention_size) :\n",
        "        super(SkipGram, self).__init__()\n",
        "        self.embeddings = nn.Embedding(vocab_size, dimention_size)\n",
        "        self.linear = nn.Linear(dimention_size, vocab_size, bias = False)\n",
        "        self.activation = nn.LogSoftmax(dim = 1)\n",
        "\n",
        "    def forward(self, X) :\n",
        "        X = self.embeddings(X)\n",
        "        X = self.linear(X)\n",
        "        X = self.activation(X)\n",
        "        return X"
      ],
      "metadata": {
        "id": "DXezqWVG3WPl"
      },
      "execution_count": 60,
      "outputs": []
    },
    {
      "cell_type": "markdown",
      "source": [
        "# 4. Training"
      ],
      "metadata": {
        "id": "QHTs5U3T9xC4"
      }
    },
    {
      "cell_type": "markdown",
      "source": [
        "## 4-1. Skip-Gram Training"
      ],
      "metadata": {
        "id": "6unIZ9LSLLOu"
      }
    },
    {
      "cell_type": "markdown",
      "source": [
        "- parameter setting"
      ],
      "metadata": {
        "id": "0Y5howjC5i5O"
      }
    },
    {
      "cell_type": "code",
      "source": [
        "dimension_size = 10\n",
        "epochs = 1000"
      ],
      "metadata": {
        "id": "NKRQ6CeSH3LM"
      },
      "execution_count": 61,
      "outputs": []
    },
    {
      "cell_type": "markdown",
      "source": [
        "- Training"
      ],
      "metadata": {
        "id": "AjwnRVzo5oqv"
      }
    },
    {
      "cell_type": "code",
      "source": [
        "model = SkipGram(vocab_size, dimension_size)\n",
        "optimizer = optim.SGD(model.parameters(), lr = 0.01)\n",
        "criterion = nn.CrossEntropyLoss()\n",
        "\n",
        "for i in range(epochs+1) :\n",
        "    for feature, label in train_dataloader :\n",
        "        out = model(feature)\n",
        "        loss = criterion(out, label)\n",
        "\n",
        "        optimizer.zero_grad()\n",
        "        loss.backward()\n",
        "        optimizer.step()\n",
        "\n",
        "    if i % 100 == 0 : print(\"epoch : {:d}, loss : {:0.3f}\".format(i, loss))"
      ],
      "metadata": {
        "colab": {
          "base_uri": "https://localhost:8080/"
        },
        "id": "Mx22jBOsIEBl",
        "outputId": "e41a5a3e-3e18-4185-da9c-deea639b630e"
      },
      "execution_count": 73,
      "outputs": [
        {
          "output_type": "stream",
          "name": "stdout",
          "text": [
            "epoch : 0, loss : 3.467\n",
            "epoch : 100, loss : 2.753\n",
            "epoch : 200, loss : 2.497\n",
            "epoch : 300, loss : 2.499\n",
            "epoch : 400, loss : 1.796\n",
            "epoch : 500, loss : 1.778\n",
            "epoch : 600, loss : 1.821\n",
            "epoch : 700, loss : 1.662\n",
            "epoch : 800, loss : 1.636\n",
            "epoch : 900, loss : 2.296\n",
            "epoch : 1000, loss : 1.238\n"
          ]
        }
      ]
    },
    {
      "cell_type": "markdown",
      "source": [
        "# 5. Test"
      ],
      "metadata": {
        "id": "3F1QxoEP9pej"
      }
    },
    {
      "cell_type": "code",
      "source": [
        "index2word = {value : key for key, value in word2index.items()}"
      ],
      "metadata": {
        "id": "zclsKnpNgDnm"
      },
      "execution_count": 63,
      "outputs": []
    },
    {
      "cell_type": "markdown",
      "source": [
        "## 5-1. 단어의 유사도 측정"
      ],
      "metadata": {
        "id": "x1gDKTb59rI6"
      }
    },
    {
      "cell_type": "markdown",
      "source": [
        "### 5-1-1. 유사 단어 상위 3개 추출 함수 생성"
      ],
      "metadata": {
        "id": "65QFGPj6K9CP"
      }
    },
    {
      "cell_type": "code",
      "source": [
        "def find_similarity(target_word) :\n",
        "    target_word_embed = model.state_dict()['embeddings.weight'][word2index[target_word]]\n",
        "\n",
        "    similarity = []\n",
        "    for i in range(len(word2index)):\n",
        "        if target_word != index2word[i]:\n",
        "            similarity.append(( i, F.cosine_similarity(target_word_embed.unsqueeze(0), model.state_dict()['embeddings.weight'][i].unsqueeze(0)).item()))\n",
        "        else:\n",
        "            similarity.append((i, -1)) # target_word와 동일 단어는 -1 처리\n",
        "\n",
        "    # 유사도 내림차순 정렬\n",
        "    similarity.sort(key = lambda x : -x[1])\n",
        "\n",
        "    # 인덱스를 단어로 변환\n",
        "    print(f'{target_word}와 유사한 단어:')\n",
        "    for i in range(3) :\n",
        "        print(f'{i+1}위 : {index2word[similarity[i][0]]}({similarity[i][1]})')"
      ],
      "metadata": {
        "id": "rpAcrRPpgLel"
      },
      "execution_count": 64,
      "outputs": []
    },
    {
      "cell_type": "markdown",
      "source": [
        "### 5-2-2. 결과 확인"
      ],
      "metadata": {
        "id": "Cfv54a5p0_4B"
      }
    },
    {
      "cell_type": "code",
      "source": [
        "find_similarity(\"cola\")"
      ],
      "metadata": {
        "colab": {
          "base_uri": "https://localhost:8080/"
        },
        "id": "XS0bkEr9gQlH",
        "outputId": "f2931e4c-de4c-4770-ddec-ba190314a286"
      },
      "execution_count": 83,
      "outputs": [
        {
          "output_type": "stream",
          "name": "stdout",
          "text": [
            "cola와 유사한 단어:\n",
            "1위 : juice(0.5467252731323242)\n",
            "2위 : apple(0.40455394983291626)\n",
            "3위 : is(0.3187265992164612)\n"
          ]
        }
      ]
    }
  ]
}